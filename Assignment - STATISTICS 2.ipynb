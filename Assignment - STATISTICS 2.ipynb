{
 "cells": [
  {
   "cell_type": "markdown",
   "metadata": {},
   "source": [
    "## Assignment - STATISTICS 2"
   ]
  },
  {
   "cell_type": "markdown",
   "metadata": {},
   "source": [
    "### 1. A test is conducted which is consisting of 20 MCQs (multiple choices questions) with every MCQ having its four options out of which only one is correct. Determine the probability that a person undertaking that test has answered exactly 5 questions wrong. "
   ]
  },
  {
   "cell_type": "markdown",
   "metadata": {},
   "source": [
    "### Solution"
   ]
  },
  {
   "cell_type": "code",
   "execution_count": 1,
   "metadata": {},
   "outputs": [],
   "source": [
    "import numpy as np\n",
    "import matplotlib.pyplot as plt\n",
    "from scipy.stats import binom\n",
    "from scipy.special import factorial"
   ]
  },
  {
   "cell_type": "code",
   "execution_count": 2,
   "metadata": {},
   "outputs": [
    {
     "name": "stdout",
     "output_type": "stream",
     "text": [
      "The probability of getting exactly 5 out of 20 answeres incorrect is 0.0000034\n"
     ]
    }
   ],
   "source": [
    "# Assume that in an experiment:\n",
    "# 'n' represents the trails attempted\n",
    "# The count of successes that is to be attained in those 'n' trials is represented by 'k'\n",
    "# The count of failures is calculated as 'n - k'\n",
    "\n",
    "n = 20\n",
    "failures = 5\n",
    "k = 15\n",
    "\n",
    "# Probability of success (correct answer) = p_s\n",
    "p_s = failures / n\n",
    "\n",
    "# Probability of failures (wrong answer) = p_f\n",
    "p_f = 1 - p_s\n",
    "\n",
    "# Using the formula for binomial distribution, we get the probability value as\n",
    "\n",
    "P = (factorial(n) / (factorial(k) * factorial(n-k))) * np.power(p_s,k) * np.power(p_f, failures)\n",
    "\n",
    "print('The probability of getting exactly 5 out of 20 answeres incorrect is {:0.7f}'.format(P))"
   ]
  },
  {
   "cell_type": "markdown",
   "metadata": {},
   "source": [
    "### 2. A die marked A to E is rolled 50 times. Find the probability of getting a “D” exactly 5 times. "
   ]
  },
  {
   "cell_type": "markdown",
   "metadata": {},
   "source": [
    "### Solution"
   ]
  },
  {
   "cell_type": "code",
   "execution_count": 3,
   "metadata": {},
   "outputs": [
    {
     "name": "stdout",
     "output_type": "stream",
     "text": [
      "The probability of getting a 'D' in 5 throws out of 50 number of trails conducted is 0.2\n"
     ]
    }
   ],
   "source": [
    "# Assume that in an experiment:\n",
    "# 'n' represents the trails attempted\n",
    "# The count of successes that is to be attained in those ‘n’ trials, is represented by 'k'\n",
    "# The failures is calculated as ‘n - k’\n",
    "\n",
    "n = 50\n",
    "k =5\n",
    "Failures = n - k\n",
    "# Probability of success (Getting a 'D')= p_s\n",
    "p_s = 1/k\n",
    "\n",
    "# Hence, the probability of failure (Not getting a 'D')= p_f\n",
    "p_f = 1 - p_s\n",
    "\n",
    "print(\"The probability of getting a 'D' in {} throws out of {} number of trails conducted is {}\".format(k,n,p_s))"
   ]
  },
  {
   "cell_type": "markdown",
   "metadata": {},
   "source": [
    "### 3. Two balls are drawn at random in succession without replacement from an urn containing 4 red balls and 6 black balls.\n",
    "\n",
    "### Find the probabilities of all the possible outcomes."
   ]
  },
  {
   "cell_type": "markdown",
   "metadata": {},
   "source": [
    "### Solution"
   ]
  },
  {
   "cell_type": "code",
   "execution_count": 4,
   "metadata": {},
   "outputs": [
    {
     "name": "stdout",
     "output_type": "stream",
     "text": [
      "The probability of all possible outcomes of picking Red ball first and Black ball second is (0.40,0.67)\n",
      "The probability of all possible outcomes of picking Black ball first and Red ball second is (0.60,0.44)\n",
      "The probability of all possible outcomes of picking both the balls as Black is 0.0000000002\n",
      "The probability of all possible outcomes of picking both the balls as Red is 0.0000000001\n"
     ]
    }
   ],
   "source": [
    "red_ball = 4\n",
    "black_ball = 6\n",
    "total_balls = red_ball + black_ball\n",
    "\n",
    "# Possible outcomes= {Red_ball and Black_ball,Black_ball and Red_ball,Black_ball and Black_ball,Red_ball and Red_ball}\n",
    "\n",
    "# So the chances of picking a red ball first is 4 out of 10 balls. So the probability is 4/10.\n",
    "p_first_red_ball = red_ball / total_balls\n",
    "\n",
    "# So the chances of picking a black ball second is 6 out of 9 balls. So the probability is 6/9.\n",
    "p_second_black_ball = black_ball / (total_balls - 1)\n",
    "\n",
    "# So the chances of picking a black ball first is 6 out of 10 balls. So the probability is 6/10.\n",
    "p_first_black_ball = black_ball / total_balls\n",
    "\n",
    "# So the chances of picking a red ball second is 4 out of 9 balls. So the probability is 4/9.\n",
    "p_second_red_ball = red_ball / (total_balls - 1)\n",
    "\n",
    "# Probability that both the balls are red is computed here as: \n",
    "# = Total number of ways to select 2 red balls from the 4 red balls /\n",
    "# Total number of ways to select 2 black balls from 10 total balls\n",
    "P_2_r = (factorial(red_ball) / (factorial(2) * factorial(red_ball - 2))) / (factorial(total_balls) / factorial(2)* factorial(total_balls - 2))\n",
    "\n",
    "# Probability that both the balls are black is computed here as:\n",
    "# = Total number of ways to select 2 black balls from the 6 red balls /\n",
    "# Total number of ways to select 2 black balls from 10 total balls\n",
    "P_2_b = (factorial(black_ball) / (factorial(2) * factorial(black_ball -2))) / (factorial(total_balls) / factorial(2)* factorial(total_balls - 2))\n",
    "\n",
    "print(\"The probability of all possible outcomes of picking Red ball first and Black ball second is ({:0.2f},{:0.2f})\".format (p_first_red_ball,p_second_black_ball))\n",
    "print(\"The probability of all possible outcomes of picking Black ball first and Red ball second is ({:0.2f},{:0.2f})\".format (p_first_black_ball,p_second_red_ball))\n",
    "print(\"The probability of all possible outcomes of picking both the balls as Black is {:0.10f}\".format(P_2_b))\n",
    "print(\"The probability of all possible outcomes of picking both the balls as Red is {:0.10f}\".format(P_2_r))"
   ]
  }
 ],
 "metadata": {
  "kernelspec": {
   "display_name": "Python 3",
   "language": "python",
   "name": "python3"
  },
  "language_info": {
   "codemirror_mode": {
    "name": "ipython",
    "version": 3
   },
   "file_extension": ".py",
   "mimetype": "text/x-python",
   "name": "python",
   "nbconvert_exporter": "python",
   "pygments_lexer": "ipython3",
   "version": "3.7.3"
  }
 },
 "nbformat": 4,
 "nbformat_minor": 2
}
