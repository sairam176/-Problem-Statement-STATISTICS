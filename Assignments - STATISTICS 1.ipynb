{
 "cells": [
  {
   "cell_type": "markdown",
   "metadata": {},
   "source": [
    "## Assignment - STATISTICS 1"
   ]
  },
  {
   "cell_type": "markdown",
   "metadata": {},
   "source": [
    "### 1. You survey households in your area to find the average rent they are paying. Find the standard deviation from the following data: \n",
    " \n",
    "$1550, $1700, $900, $850, $1000, $950"
   ]
  },
  {
   "cell_type": "code",
   "execution_count": 9,
   "metadata": {},
   "outputs": [
    {
     "name": "stdout",
     "output_type": "stream",
     "text": [
      "The average rent paid is $ 1158.33\n",
      "The standard deviation of sample is $ 367.9900360969936\n",
      "The standard deviation of population is $ 335.93\n"
     ]
    }
   ],
   "source": [
    "import statistics as stat\n",
    "data = [1550,1700,900,850,1000,950]\n",
    "Average = stat.mean(data)\n",
    "print('The average rent paid is $', round(Average,2))\n",
    "Sample_std = stat.stdev(data)\n",
    "print('The standard deviation of sample is $', Sample_std)\n",
    "Population_std = round(stat.pstdev(data),2)\n",
    "print('The standard deviation of population is $', Population_std)"
   ]
  },
  {
   "cell_type": "markdown",
   "metadata": {},
   "source": [
    "### 2. Find the variance for the following set of data representing trees in California (heights in feet): \n",
    " \n",
    "3, 21, 98, 203, 17, 9 "
   ]
  },
  {
   "cell_type": "code",
   "execution_count": 10,
   "metadata": {},
   "outputs": [
    {
     "name": "stdout",
     "output_type": "stream",
     "text": [
      "The variance of sample is - 6219.9 feet\n",
      "The variance of population is - 5183.25 feet\n"
     ]
    }
   ],
   "source": [
    "Trees = [3,21,98,203,17,9]\n",
    "Sample_variance = stat.variance(Trees)\n",
    "print('The variance of sample is -', Sample_variance, 'feet')\n",
    "Population_variance = stat.pvariance(Trees)\n",
    "print('The variance of population is -', Population_variance, 'feet')"
   ]
  },
  {
   "cell_type": "markdown",
   "metadata": {},
   "source": [
    "### 3. In a class on 100 students, 80 students passed in all subjects, 10 failed in one subject, 7 failed in two subjects and 3 failed in three subjects. Find the probability distribution of the variable for number of subjects a student from the given class has failed in. "
   ]
  },
  {
   "cell_type": "code",
   "execution_count": 11,
   "metadata": {},
   "outputs": [
    {
     "name": "stdout",
     "output_type": "stream",
     "text": [
      "Probability of students failed in no subjects:  0.8\n",
      "Probability of students failed in one subject:  0.1\n",
      "Probability of students failed in two subjects:  0.07\n",
      "Probability of students failed in three subjects:  0.03\n"
     ]
    }
   ],
   "source": [
    "import numpy as np\n",
    "import matplotlib.pyplot as plt\n",
    "%matplotlib inline\n",
    "\n",
    "n_students = 100\n",
    "passed_all = 80\n",
    "failed_one = 10\n",
    "failed_two = 7\n",
    "failed_three = 3\n",
    "\n",
    "not_passed_all = n_students - passed_all\n",
    "prob_failed_none = passed_all / n_students\n",
    "prob_failed_one = failed_one / n_students\n",
    "prob_failed_two = failed_two / n_students\n",
    "prob_failed_three = failed_three / n_students\n",
    "\n",
    "print('Probability of students failed in no subjects: ', prob_failed_none)\n",
    "print('Probability of students failed in one subject: ', prob_failed_one)\n",
    "print('Probability of students failed in two subjects: ', prob_failed_two)\n",
    "print('Probability of students failed in three subjects: ', prob_failed_three)"
   ]
  },
  {
   "cell_type": "code",
   "execution_count": 18,
   "metadata": {},
   "outputs": [
    {
     "data": {
      "text/plain": [
       "Text(0.5, 1.0, 'PDF/CDF of students with respect to subjects passed')"
      ]
     },
     "execution_count": 18,
     "metadata": {},
     "output_type": "execute_result"
    },
    {
     "data": {
      "image/png": "[encoded data removed]",
      "text/plain": [
       "<Figure size 576x288 with 1 Axes>"
      ]
     },
     "metadata": {
      "needs_background": "light"
     },
     "output_type": "display_data"
    }
   ],
   "source": [
    "x = [prob_failed_none,prob_failed_one,prob_failed_two,prob_failed_three]\n",
    "counts, bin_edges = np.histogram(x, bins=10, density= True)\n",
    "pdf = counts/(sum(counts))\n",
    "cdf = np.cumsum(pdf)\n",
    "\n",
    "plt.figure(figsize=(8,4))\n",
    "\n",
    "plt.subplot(1, 2, 1)\n",
    "plt.plot(bin_edges[1:], pdf,label=\"PDF\")\n",
    "plt.plot(bin_edges[1:], cdf,label=\"CDF\")\n",
    "plt.legend()\n",
    "plt.tight_layout()\n",
    "plt.title(\"PDF/CDF of students with respect to subjects passed\")"
   ]
  }
 ],
 "metadata": {
  "kernelspec": {
   "display_name": "Python 3",
   "language": "python",
   "name": "python3"
  },
  "language_info": {
   "codemirror_mode": {
    "name": "ipython",
    "version": 3
   },
   "file_extension": ".py",
   "mimetype": "text/x-python",
   "name": "python",
   "nbconvert_exporter": "python",
   "pygments_lexer": "ipython3",
   "version": "3.7.3"
  }
 },
 "nbformat": 4,
 "nbformat_minor": 2
}
