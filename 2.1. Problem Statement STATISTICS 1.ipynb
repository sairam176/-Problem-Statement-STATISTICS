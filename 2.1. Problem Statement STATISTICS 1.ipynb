{
 "cells": [
  {
   "cell_type": "code",
   "execution_count": 7,
   "metadata": {},
   "outputs": [],
   "source": [
    "1 #Problem Statement :STATISTICS 1\n",
    "#You survey households in your area to find the average rent they are paying. Find the standard deviation from the following data:\n",
    "#$1550, $1700, $900, $850, $1000, $950.\n",
    "\n",
    "def find_mean(arr):\n",
    " return sum(arr)/len(arr)\n",
    "\n",
    "def find_variance(arr):\n",
    " variance = 0.0\n",
    " from math import sqrt\n",
    " \n",
    " mean = find_mean(arr)\n",
    " variance = sum((x - mean)**2 for x in arr) / (len(arr)-1)\n",
    " return variance\n",
    "\n",
    "def find_std_dev(arr):\n",
    " return find_variance(arr)**0.5\n",
    "\n",
    "arr = [1550,1700,900,850,1000,950]"
   ]
  },
  {
   "cell_type": "code",
   "execution_count": 8,
   "metadata": {},
   "outputs": [
    {
     "name": "stdout",
     "output_type": "stream",
     "text": [
      "Calculation using custom method\n",
      "Mean 1158.3333333333333\n",
      "variance 135416.6666666667\n",
      "std_dev 367.99003609699366\n"
     ]
    }
   ],
   "source": [
    "print(\"Calculation using custom method\")\n",
    "print (\"Mean \" + str(find_mean(arr)))\n",
    "print (\"variance \" + str(find_variance(arr)))\n",
    "print(\"std_dev \" + str(find_std_dev(arr)))"
   ]
  },
  {
   "cell_type": "code",
   "execution_count": 9,
   "metadata": {},
   "outputs": [
    {
     "name": "stdout",
     "output_type": "stream",
     "text": [
      "Calculation using statistics library\n",
      "Mean 1158.3333333333333\n",
      "Variance 135416.66666666666\n",
      "std_dev 367.9900360969936\n"
     ]
    }
   ],
   "source": [
    "print(\"Calculation using statistics library\")\n",
    "import statistics as stat\n",
    "print(str(\"Mean \" + str(stat.mean(arr))))\n",
    "print(str(\"Variance \" + str(stat.variance(arr))))\n",
    "print(str(\"std_dev \" + str(stat.stdev(arr))))"
   ]
  },
  {
   "cell_type": "code",
   "execution_count": 10,
   "metadata": {},
   "outputs": [
    {
     "name": "stdout",
     "output_type": "stream",
     "text": [
      "Calculation using statistics library\n",
      "Mean 58.5\n",
      "Variance 6219.9\n",
      "std_dev 78.86634263106157\n"
     ]
    }
   ],
   "source": [
    "2 #Problem Statement :STATISTICS 1\n",
    "#the variance for the following set of data representing trees in California (heights in feet):\n",
    "#3,21,98,203,17,9\n",
    "\n",
    "arr = [3,21,98,203,17,9]\n",
    "\n",
    "print(\"Calculation using statistics library\")\n",
    "import statistics as stat\n",
    "print(str(\"Mean \" + str(stat.mean(arr))))\n",
    "print(str(\"Variance \" + str(stat.variance(arr))))\n",
    "print(str(\"std_dev \" + str(stat.stdev(arr))))\n"
   ]
  },
  {
   "cell_type": "code",
   "execution_count": 21,
   "metadata": {},
   "outputs": [
    {
     "name": "stdout",
     "output_type": "stream",
     "text": [
      "p[X=0]= 0.8\n",
      "p[X=1]= 0.1\n",
      "p[X=2]= 0.07\n",
      "p[X=3]= 0.03\n"
     ]
    }
   ],
   "source": [
    "3 #Problem Statement :STATISTICS 1\n",
    "#In a class on 100 students, 80 students passed in all subjects, 10 failed in one subject, 7 failed in two subjects and 3 failed in three subjects. Find the\n",
    "#probability distribution of the variable for number of subjects a student from the given class has failed in.\n",
    "\n",
    "#let X is a random variable which indicates the number of subjects a student from a given class has failed in .so,\n",
    "\n",
    "#if, \n",
    "    #X=0 ---> a student failed in 0 subjects\n",
    "    #X=1 ---> a student failed in 1 subjects\n",
    "    #X=2 ---> a student failed in 2 subjects\n",
    "    #X=3 ---> a student failed in 3 subjects\n",
    "\n",
    "#since the variable is random variable. hence the distribution is called pmf (probability mass function) .\n",
    "\n",
    "#p(x=0)+p(x=1)+p(x=2)+p(x=3)=1\n",
    " \n",
    "#p[X=0]= no_of_times_X_equalto_0/sum(no_of_times_X)\n",
    "#p[X=1]= no_of_times_X_equalto_1/sum(no_of_times_X)\n",
    "#p[X=2]= no_of_times_X_equalto_2/sum(no_of_times_X)\n",
    "#p[X=3]= no_of_times_X_equalto_3/sum(no_of_times_X)\n",
    "\n",
    "\n",
    "\n",
    "#importing the library\n",
    "\n",
    "import numpy as np\n",
    "\n",
    "#X is a numpy array\n",
    " \n",
    "X=np.array([0,1,2,3]) \n",
    "\n",
    "# let no_of_times_X is the value of number of times X has occured\n",
    "\n",
    "no_of_times_X=np.array([80,10,7,3])\n",
    "\n",
    "prob_of_X_equalto_0 =no_of_times_X[0]/sum(no_of_times_X)\n",
    "prob_of_X_equalto_1 =no_of_times_X[1]/sum(no_of_times_X)\n",
    "prob_of_X_equalto_2 =no_of_times_X[2]/sum(no_of_times_X)\n",
    "prob_of_X_equalto_3 =no_of_times_X[3]/sum(no_of_times_X)\n",
    "\n",
    "print(\"p[X=0]=\",prob_of_X_equalto_0)\n",
    "print(\"p[X=1]=\",prob_of_X_equalto_1)\n",
    "print(\"p[X=2]=\",prob_of_X_equalto_2)\n",
    "print(\"p[X=3]=\",prob_of_X_equalto_3)   "
   ]
  }
 ],
 "metadata": {
  "kernelspec": {
   "display_name": "Python 3",
   "language": "python",
   "name": "python3"
  },
  "language_info": {
   "codemirror_mode": {
    "name": "ipython",
    "version": 3
   },
   "file_extension": ".py",
   "mimetype": "text/x-python",
   "name": "python",
   "nbconvert_exporter": "python",
   "pygments_lexer": "ipython3",
   "version": "3.7.3"
  }
 },
 "nbformat": 4,
 "nbformat_minor": 2
}
